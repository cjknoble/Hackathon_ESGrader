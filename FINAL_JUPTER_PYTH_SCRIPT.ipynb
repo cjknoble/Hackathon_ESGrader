{
  "nbformat": 4,
  "nbformat_minor": 0,
  "metadata": {
    "colab": {
      "provenance": []
    },
    "kernelspec": {
      "name": "python3",
      "display_name": "Python 3"
    },
    "language_info": {
      "name": "python"
    }
  },
  "cells": [
    {
      "cell_type": "markdown",
      "source": [
        "# ESGrader tool\n",
        "\n",
        "Before running this script, ensure that all of the data from \"Data to be Imported for Running Script\" folder is imported into the virtual environment to be referenced"
      ],
      "metadata": {
        "id": "ai2Z2QrLqYh_"
      }
    },
    {
      "cell_type": "code",
      "execution_count": 6,
      "metadata": {
        "id": "NSOw0I4PV7pP"
      },
      "outputs": [],
      "source": [
        "from esg_recommender import ESGRecommendationEngine, ProjectType\n",
        "from spatial_EJ_assessment import process_ejscreen, top_social_variables, top_environmental_variables, ej_indexes\n",
        "\n",
        "import pandas as pd"
      ]
    },
    {
      "cell_type": "markdown",
      "source": [
        "# Adjust the below lines to ensure the input data location is correct"
      ],
      "metadata": {
        "id": "knkbwxlTqeBd"
      }
    },
    {
      "cell_type": "code",
      "source": [
        "#Inputs (adjust)\n",
        "shapefile_path = \"/content/EJScreen.shp\"\n",
        "cejst_shapefile_path = \"/content/CEJST.shp\"\n",
        "\n",
        "proj_loc = \"Newark, NJ\"\n",
        "survey_data = pd.read_csv('/content/Example Survey Results.csv')\n",
        "proj_type = ProjectType.SOLAR"
      ],
      "metadata": {
        "id": "PLSMftyfWPH1"
      },
      "execution_count": 7,
      "outputs": []
    },
    {
      "cell_type": "code",
      "source": [
        "# Call the process_ejscreen function\n",
        "results_df, cejst_check = process_ejscreen(proj_loc, shapefile_path, cejst_shapefile_path)\n",
        "\n",
        "# Extract top 3 social and environmental variables\n",
        "top_social = top_social_variables(results_df)\n",
        "top_environmental = top_environmental_variables(results_df)\n",
        "\n",
        "# Record highest social and environemntal stressor percentile values for location\n",
        "location_data = ej_indexes(results_df)"
      ],
      "metadata": {
        "id": "X1DMvSzcWPKT"
      },
      "execution_count": 8,
      "outputs": []
    },
    {
      "cell_type": "code",
      "source": [
        "# Generate recommendations\n",
        "\n",
        "engine = ESGRecommendationEngine()\n",
        "\n",
        "# Calculate scores based on the ESG weighting\n",
        "base_scores = engine.calculate_base_scores(survey_data, proj_type)\n",
        "\n",
        "# Calculate scores based on the impact weighting\n",
        "impact_scores = engine.calculate_impact_scores(survey_data, proj_type)\n",
        "\n",
        "# Adjust ESG scores based on the type of project (#Ex. Wind and Solar improve the ENV score by 1.1 times, and also by 1.2 times for job creation)\n",
        "modified_scores = engine.apply_project_modifiers(base_scores, proj_type)\n",
        "\n",
        "# Adjust ESG scores based on the EJ context\n",
        "contextual_scores = engine.incorporate_location_context(modified_scores, location_data)\n",
        "\n",
        "# Scores data\n",
        "scores_data = {\n",
        "        \"Contextual ESG Score\": contextual_scores,\n",
        "        \"Impact Score\": impact_scores\n",
        "        }\n",
        "\n",
        "# Create a DataFrame\n",
        "scores_df = pd.DataFrame(scores_data)\n",
        "\n",
        "# Fill NaN values with 0 for consistency\n",
        "scores_df = scores_df.fillna(0)\n",
        "\n",
        "# Print the DataFrame in tabular form\n",
        "print(\"\\nEnhanced ESG Scores Table:\")\n",
        "print(scores_df.to_string(index=True, float_format=\"{:.2f}\".format))\n",
        "\n"
      ],
      "metadata": {
        "colab": {
          "base_uri": "https://localhost:8080/"
        },
        "id": "rA52rtBNWPMa",
        "outputId": "f883e44a-6138-486e-b81a-adae2dab9274"
      },
      "execution_count": 9,
      "outputs": [
        {
          "output_type": "stream",
          "name": "stdout",
          "text": [
            "\n",
            "Enhanced ESG Scores Table:\n",
            "                           Contextual ESG Score  Impact Score\n",
            "environmental                             61.85          0.00\n",
            "social                                    40.02          0.00\n",
            "governance                                15.00          0.00\n",
            "climate_change_mitigation                  0.00         20.00\n",
            "local_environmental                        0.00         15.00\n",
            "community_benefits                         0.00         21.67\n",
            "health_safety                              0.00         10.00\n",
            "innovation                                 0.00          0.00\n"
          ]
        }
      ]
    },
    {
      "cell_type": "markdown",
      "source": [],
      "metadata": {
        "id": "BRpUn3FwqX4x"
      }
    },
    {
      "cell_type": "code",
      "source": [
        "recommendations = engine.generate_recommendations(contextual_scores, impact_scores, proj_type)\n",
        "\n",
        "# Print recommendations\n",
        "for rec in recommendations:\n",
        "  print(f\"\\nRecommendation: {rec.title}\")\n",
        "  print(\"-\" * 50)  # Optional line separator for clarity\n",
        "  print(f\"Expected Impact: ESG +{rec.impact.esg}, Score +{rec.impact.score}\")\n",
        "  print(f\"Recommended partners:\")\n",
        "  for partner in rec.partners:\n",
        "    print(f\"\\nName: {partner.name}\")\n",
        "    print(f\"Type: {partner.type}\")\n",
        "    print(f\"Description: {partner.description}\")\n",
        "    print(\"-\" * 50)  # Optional line separator for clarity\n",
        "\n",
        "\n",
        "  # Print results\n",
        "print(\"ADDITIONAL COMMUNITY CONSIDERATIONS:\")\n",
        "\n",
        "print(\"Top Social Factors to Consider in this Community:\")\n",
        "print(top_social)\n",
        "\n",
        "print(\"\\nTop Environmental Factors to Consider in this Community:\")\n",
        "print(top_environmental)\n",
        "\n",
        "print(f\"\\nEligible for Justice40 funding based on project location? {'YES' if cejst_check else 'NO'}\")"
      ],
      "metadata": {
        "colab": {
          "base_uri": "https://localhost:8080/"
        },
        "id": "wPYEJhwAWPN1",
        "outputId": "1f294c80-c5f8-492a-b272-4117028339cb"
      },
      "execution_count": 10,
      "outputs": [
        {
          "output_type": "stream",
          "name": "stdout",
          "text": [
            "\n",
            "Recommendation: Strengthen Governance and Safety Frameworks\n",
            "--------------------------------------------------\n",
            "Expected Impact: ESG +18, Score +22\n",
            "Recommended partners:\n",
            "\n",
            "Name: SafetyFirst Compliance\n",
            "Type: certifier\n",
            "Description: Specialists in health and safety certifications and risk management.\n",
            "--------------------------------------------------\n",
            "\n",
            "Name: GovernWell Consulting\n",
            "Type: consulting\n",
            "Description: Advisors in corporate governance and ethical practices.\n",
            "--------------------------------------------------\n",
            "\n",
            "Recommendation: Enhance Community Engagement Initiatives\n",
            "--------------------------------------------------\n",
            "Expected Impact: ESG +20, Score +25\n",
            "Recommended partners:\n",
            "\n",
            "Name: Community Builders Network\n",
            "Type: nonprofit\n",
            "Description: Organization dedicated to fostering community development and engagement.\n",
            "--------------------------------------------------\n",
            "\n",
            "Name: Social Equity Innovations\n",
            "Type: consulting\n",
            "Description: Experts in designing and implementing equitable social programs.\n",
            "--------------------------------------------------\n",
            "\n",
            "Recommendation: Implement Advanced Environmental Monitoring\n",
            "--------------------------------------------------\n",
            "Expected Impact: ESG +15, Score +20\n",
            "Recommended partners:\n",
            "\n",
            "Name: GreenTech Certifications\n",
            "Type: certifier\n",
            "Description: Leading certification body specializing in environmental compliance\n",
            "--------------------------------------------------\n",
            "\n",
            "Name: EcoInnovate Solutions\n",
            "Type: technology\n",
            "Description: Cutting-edge environmental monitoring provider\n",
            "--------------------------------------------------\n",
            "ADDITIONAL COMMUNITY CONSIDERATIONS:\n",
            "Top Social Factors to Consider in this Community:\n",
            "              Column  Average Value\n",
            "0  % People of Color      91.234375\n",
            "2       % Unemployed      76.054688\n",
            "1       % Low Income      74.273438\n",
            "\n",
            "Top Environmental Factors to Consider in this Community:\n",
            "                       Column  Average Value\n",
            "18  Underground Storage Tanks      98.445312\n",
            "15        Superfund Proximity      96.843750\n",
            "20     Nitrogen Dioxide (NO2)      95.195312\n",
            "\n",
            "Eligible for Justice40 funding based on project location? YES\n"
          ]
        }
      ]
    },
    {
      "cell_type": "code",
      "source": [],
      "metadata": {
        "id": "T123-18ikykj"
      },
      "execution_count": null,
      "outputs": []
    }
  ]
}